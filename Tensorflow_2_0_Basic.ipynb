{
  "nbformat": 4,
  "nbformat_minor": 0,
  "metadata": {
    "colab": {
      "provenance": [],
      "authorship_tag": "ABX9TyMCaQZWNffNrVF4IINJ+H2r",
      "include_colab_link": true
    },
    "kernelspec": {
      "name": "python3",
      "display_name": "Python 3"
    },
    "language_info": {
      "name": "python"
    }
  },
  "cells": [
    {
      "cell_type": "markdown",
      "metadata": {
        "id": "view-in-github",
        "colab_type": "text"
      },
      "source": [
        "<a href=\"https://colab.research.google.com/github/ThawZinThant24/Exam-4-9-2022/blob/main/Tensorflow_2_0_Basic.ipynb\" target=\"_parent\"><img src=\"https://colab.research.google.com/assets/colab-badge.svg\" alt=\"Open In Colab\"/></a>"
      ]
    },
    {
      "cell_type": "markdown",
      "source": [
        "**Import**"
      ],
      "metadata": {
        "id": "4IqjKNfg_gZc"
      }
    },
    {
      "cell_type": "code",
      "execution_count": null,
      "metadata": {
        "id": "ddZIeZ6FfjA6"
      },
      "outputs": [],
      "source": [
        "import tensorflow as tf #importing tensorflow\n",
        "import numpy as np #importing numpy"
      ]
    },
    {
      "cell_type": "markdown",
      "source": [
        "**Creating tensors**"
      ],
      "metadata": {
        "id": "kL_4ePw9_Jxv"
      }
    },
    {
      "cell_type": "code",
      "source": [
        "#scalar (single variable)\n",
        "rank_0_tensor = tf.constant(4) \n",
        "print(rank_0_tensor)"
      ],
      "metadata": {
        "id": "JiTBtwFleidl"
      },
      "execution_count": null,
      "outputs": []
    },
    {
      "cell_type": "code",
      "source": [
        "#vector (single array)\n",
        "rank_1_tensor = tf.constant([1 , 2 , 3]) \n",
        "print(rank_1_tensor)"
      ],
      "metadata": {
        "id": "BLWoSeMAVtqe"
      },
      "execution_count": null,
      "outputs": []
    },
    {
      "cell_type": "code",
      "source": [
        "#matrix (two dimensional array)\n",
        "rank_2_tensor = tf.constant([[1 , 2] , \n",
        "                             [3 , 4] , \n",
        "                             [5 , 6]]) \n",
        "\n",
        "print(rank_2_tensor)"
      ],
      "metadata": {
        "id": "Og41JHTtW0wc"
      },
      "execution_count": null,
      "outputs": []
    },
    {
      "cell_type": "code",
      "source": [
        "#tensor (multiple dimensional array)\n",
        "rank_3_tensor = tf.constant([[[0 , 1 , 2 , 3 , 4] ,\n",
        "                              [5 , 6 , 7 , 8 , 9]],\n",
        "                             [[10 , 11 , 12 , 13 , 14],\n",
        "                              [15 , 16 , 17 , 18 , 19]],\n",
        "                             [[20 , 21 , 22 , 23 , 24],\n",
        "                              [25 , 26 , 27 , 28 , 29]\n",
        "                              ]])                      \n",
        "\n",
        "print(rank_3_tensor)"
      ],
      "metadata": {
        "id": "LFm0EDlR2xW7"
      },
      "execution_count": null,
      "outputs": []
    },
    {
      "cell_type": "markdown",
      "source": [
        "**Converting a tensor to a numpy**"
      ],
      "metadata": {
        "id": "_VgY7LV3A2Vg"
      }
    },
    {
      "cell_type": "markdown",
      "source": [
        "Method 1"
      ],
      "metadata": {
        "id": "8ZfNESQXB06b"
      }
    },
    {
      "cell_type": "code",
      "source": [
        "np.array(rank_2_tensor)"
      ],
      "metadata": {
        "id": "e7UWQZUB9aJt"
      },
      "execution_count": null,
      "outputs": []
    },
    {
      "cell_type": "markdown",
      "source": [
        "Method 2"
      ],
      "metadata": {
        "id": "APCvurwJB5ud"
      }
    },
    {
      "cell_type": "code",
      "source": [
        "rank_2_tensor.numpy()"
      ],
      "metadata": {
        "id": "-q38EbqLA1SH"
      },
      "execution_count": null,
      "outputs": []
    },
    {
      "cell_type": "markdown",
      "source": [
        "**Basic maths in tensor**"
      ],
      "metadata": {
        "id": "HBkHQrJsHNQu"
      }
    },
    {
      "cell_type": "code",
      "source": [
        "num1 = tf.constant([[1 , 2],\n",
        "                 [3 , 4]])\n",
        "\n",
        "num2 = tf.constant([[1 , 1],\n",
        "                 [1 , 1]])"
      ],
      "metadata": {
        "id": "GxBR5W6xHTNx"
      },
      "execution_count": null,
      "outputs": []
    },
    {
      "cell_type": "markdown",
      "source": [
        "Method 1"
      ],
      "metadata": {
        "id": "aLQEb0pzL4-Z"
      }
    },
    {
      "cell_type": "code",
      "source": [
        "add = (tf.add(num1 , num2))\n",
        "multiply = (tf.multiply(num1 , num2))\n",
        "mat_mul = (tf.matmul(num1 , num2))\n",
        "\n",
        "print(add , \"\\n\")\n",
        "print(multiply , \"\\n\")\n",
        "print(mat_mul , \"\\n\")"
      ],
      "metadata": {
        "id": "qDDGn8QMHpoU"
      },
      "execution_count": null,
      "outputs": []
    },
    {
      "cell_type": "markdown",
      "source": [
        "Method 2"
      ],
      "metadata": {
        "id": "bGSMNMhUL72i"
      }
    },
    {
      "cell_type": "code",
      "source": [
        "print(num1 + num2, \"\\n\") # elements addition\n",
        "print(num1 * num2, \"\\n\") # elements multiplication\n",
        "print(num1 @ num2, \"\\n\") # matrix multiplication"
      ],
      "metadata": {
        "id": "zjp_N9pfL9ua"
      },
      "execution_count": null,
      "outputs": []
    },
    {
      "cell_type": "markdown",
      "source": [
        "**Other operations in tensorflow**"
      ],
      "metadata": {
        "id": "afIyVpIKTMYr"
      }
    },
    {
      "cell_type": "code",
      "source": [
        "num3 = [[4.0 , 3.5] , [2.3 , 5.6]]\n",
        "\n",
        "# Find the largest value\n",
        "print(tf.reduce_max(num3))\n",
        "# Find the index of the largest value\n",
        "print(tf.math.argmax(num3))\n",
        "# Compute the softmax\n",
        "print(tf.nn.softmax(num3))\n"
      ],
      "metadata": {
        "id": "qTnFfPyJTL9m"
      },
      "execution_count": null,
      "outputs": []
    }
  ]
}